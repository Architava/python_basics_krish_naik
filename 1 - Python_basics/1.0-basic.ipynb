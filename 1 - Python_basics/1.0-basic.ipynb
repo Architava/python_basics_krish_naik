{
 "cells": [
  {
   "cell_type": "code",
   "execution_count": 1,
   "metadata": {},
   "outputs": [
    {
     "name": "stdout",
     "output_type": "stream",
     "text": [
      "Archi\n",
      "Bhattacharya\n"
     ]
    }
   ],
   "source": [
    "# Basic syntax rules in python\n",
    "# Case sensitivity\n",
    "name = \"Archi\"\n",
    "Name = \"Bhattacharya\"\n",
    "print(name)\n",
    "print(Name)"
   ]
  },
  {
   "cell_type": "code",
   "execution_count": 2,
   "metadata": {},
   "outputs": [
    {
     "name": "stdout",
     "output_type": "stream",
     "text": [
      "32\n",
      "32\n"
     ]
    }
   ],
   "source": [
    "## Indentation\n",
    "age = 32\n",
    "if age > 30:\n",
    "    print(age)\n",
    "\n",
    "print(age)"
   ]
  },
  {
   "cell_type": "code",
   "execution_count": 4,
   "metadata": {},
   "outputs": [
    {
     "data": {
      "text/plain": [
       "str"
      ]
     },
     "execution_count": 4,
     "metadata": {},
     "output_type": "execute_result"
    }
   ],
   "source": [
    "type(age)\n",
    "type(name)"
   ]
  },
  {
   "cell_type": "code",
   "execution_count": 5,
   "metadata": {},
   "outputs": [
    {
     "name": "stdout",
     "output_type": "stream",
     "text": [
      "<class 'int'>\n",
      "<class 'str'>\n"
     ]
    }
   ],
   "source": [
    "variable = 10\n",
    "print(type(variable))\n",
    "variable = \"archi\" ## we have converted the type of variable from int to string\n",
    "print(type(variable))"
   ]
  },
  {
   "cell_type": "code",
   "execution_count": null,
   "metadata": {},
   "outputs": [],
   "source": [
    "# variable name should always start with underscore or alphabets and can have numerics in between \n",
    "my_name = \"Archi\"\n",
    "_my_name = \"Architava\""
   ]
  },
  {
   "cell_type": "code",
   "execution_count": 7,
   "metadata": {},
   "outputs": [
    {
     "name": "stdout",
     "output_type": "stream",
     "text": [
      "<class 'int'>\n",
      "20\n",
      "<class 'str'>\n",
      "20\n",
      "<class 'str'>\n",
      "<class 'int'>\n"
     ]
    }
   ],
   "source": [
    "# type conversion\n",
    "age = 20\n",
    "print(type(age))\n",
    "\n",
    "age_str = str(age)\n",
    "print(age_str)\n",
    "print(type(age_str))\n",
    "\n",
    "curr_age = '20'\n",
    "print(curr_age)\n",
    "print(type(curr_age))\n",
    "\n",
    "str_curr_age = int(curr_age)\n",
    "print(type(str_curr_age))"
   ]
  },
  {
   "cell_type": "code",
   "execution_count": 12,
   "metadata": {},
   "outputs": [
    {
     "name": "stdout",
     "output_type": "stream",
     "text": [
      "89 <class 'str'>\n",
      "69 <class 'int'>\n"
     ]
    }
   ],
   "source": [
    "# input \n",
    "xyz = input(\"write a number\")\n",
    "print(xyz,type(xyz)) ## the type will be actually string\n",
    "\n",
    "abc = int(input(\"write another number\"))\n",
    "print(abc,type(abc)) ## the type will now be actually integer\n"
   ]
  }
 ],
 "metadata": {
  "kernelspec": {
   "display_name": "Python 3",
   "language": "python",
   "name": "python3"
  },
  "language_info": {
   "codemirror_mode": {
    "name": "ipython",
    "version": 3
   },
   "file_extension": ".py",
   "mimetype": "text/x-python",
   "name": "python",
   "nbconvert_exporter": "python",
   "pygments_lexer": "ipython3",
   "version": "3.12.0"
  }
 },
 "nbformat": 4,
 "nbformat_minor": 2
}
