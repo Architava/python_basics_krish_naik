{
 "cells": [
  {
   "cell_type": "markdown",
   "metadata": {},
   "source": [
    "Introduction to Dictionaries\n",
    "\n",
    "Dictionaries are unordered collections of items. They store data in key-value pairs. Keys must be unique and immutable(e.g - strings, numbers, tuples), while values can be of many types"
   ]
  },
  {
   "cell_type": "code",
   "execution_count": 2,
   "metadata": {},
   "outputs": [
    {
     "data": {
      "text/plain": [
       "{}"
      ]
     },
     "execution_count": 2,
     "metadata": {},
     "output_type": "execute_result"
    }
   ],
   "source": [
    "## Creating Dictionaries\n",
    "empty_dict = dict()\n",
    "empty_dict"
   ]
  },
  {
   "cell_type": "code",
   "execution_count": 4,
   "metadata": {},
   "outputs": [
    {
     "name": "stdout",
     "output_type": "stream",
     "text": [
      "{'name': 'Archi', 'age': 32, 'grade': 24}\n"
     ]
    }
   ],
   "source": [
    "# Key should always be unique \n",
    "student = {\"name\":\"Archi\",\"age\":32,\"grade\":24}\n",
    "print(student)"
   ]
  },
  {
   "cell_type": "code",
   "execution_count": 11,
   "metadata": {},
   "outputs": [
    {
     "name": "stdout",
     "output_type": "stream",
     "text": [
      "A\n",
      "32\n",
      "A\n",
      "None\n",
      "Not Available\n"
     ]
    }
   ],
   "source": [
    "## Accessing dictionary elements\n",
    "student = {\"name\":\"Archi\",\"age\":32,\"grade\":'A'}\n",
    "print(student[\"grade\"])\n",
    "print(student[\"age\"])\n",
    "\n",
    "# Accessing using get() method\n",
    "print(student.get(\"grade\"))\n",
    "print(student.get(\"last_name\"))\n",
    "## this will print \"None\" as last_name Key is not present\n",
    "# to avoid this we can assign some default value\n",
    "print(student.get(\"last_name\",\"Not Available\"))"
   ]
  },
  {
   "cell_type": "code",
   "execution_count": 13,
   "metadata": {},
   "outputs": [
    {
     "name": "stdout",
     "output_type": "stream",
     "text": [
      "{'name': 'Archi', 'age': 32, 'grade': 'A', 'address': 'India'}\n",
      "{'name': 'Archi', 'age': 32, 'address': 'India'}\n"
     ]
    }
   ],
   "source": [
    "# Adding new key\n",
    "student[\"address\"] = \"India\"\n",
    "print(student)\n",
    "\n",
    "# Deleting a key\n",
    "del student[\"grade\"]\n",
    "print(student)"
   ]
  },
  {
   "cell_type": "code",
   "execution_count": 14,
   "metadata": {},
   "outputs": [
    {
     "name": "stdout",
     "output_type": "stream",
     "text": [
      "dict_keys(['name', 'age', 'address'])\n",
      "dict_values(['Archi', 32, 'India'])\n",
      "dict_items([('name', 'Archi'), ('age', 32), ('address', 'India')])\n"
     ]
    }
   ],
   "source": [
    "# Dictionary Elements\n",
    "\n",
    "keys = student.keys() #get all the keys\n",
    "print(keys)\n",
    "values = student.values() # get all values\n",
    "print(values)\n",
    "\n",
    "items = student.items() # get all key-value pairs\n",
    "print(items) # it will return list of tuples"
   ]
  },
  {
   "cell_type": "code",
   "execution_count": 17,
   "metadata": {},
   "outputs": [
    {
     "name": "stdout",
     "output_type": "stream",
     "text": [
      "{'name': 'Pluto', 'age': 32, 'address': 'India'}\n",
      "{'name': 'Pluto', 'age': 32, 'address': 'India'}\n",
      "{'name': 'Pluto', 'age': 32, 'address': 'India'}\n",
      "{'name': 'Pluto', 'age': 32, 'address': 'India'}\n"
     ]
    }
   ],
   "source": [
    "## shallow copy\n",
    "student_copy = student\n",
    "print(student)\n",
    "print(student_copy)\n",
    "\n",
    "# now lets change the value of the name key\n",
    "student[\"name\"] = \"Pluto\"\n",
    "# now lets print student and student_copy\n",
    "print(student)\n",
    "print(student_copy)\n",
    "\n",
    "# we have updated the value of the key-name in student, but automatically the value  of the key-name will also get updated in the dictionary, Student_copy"
   ]
  },
  {
   "cell_type": "markdown",
   "metadata": {},
   "source": [
    "So now how we really make a seperate copy which will not modify the original, when it is modified"
   ]
  },
  {
   "cell_type": "code",
   "execution_count": 18,
   "metadata": {},
   "outputs": [
    {
     "name": "stdout",
     "output_type": "stream",
     "text": [
      "{'name': 'Pluto', 'age': 32, 'address': 'India'}\n",
      "{'name': 'Pluto', 'age': 32, 'address': 'India'}\n",
      "{'name': 'Pluto', 'age': 32, 'address': 'India'}\n",
      "{'name': 'Nonte', 'age': 32, 'address': 'India'}\n"
     ]
    }
   ],
   "source": [
    "student_copy1 = student.copy() ## Shallow Copy\n",
    "print(student_copy1)\n",
    "print(student)\n",
    "# now lets change a value from key name\n",
    "student[\"name\"] = \"Nonte\"\n",
    "print(student_copy1)\n",
    "print(student)"
   ]
  },
  {
   "cell_type": "code",
   "execution_count": 19,
   "metadata": {},
   "outputs": [
    {
     "name": "stdout",
     "output_type": "stream",
     "text": [
      "name\n",
      "age\n",
      "address\n"
     ]
    }
   ],
   "source": [
    "## Iterating over Dictionaries\n",
    "# we can use loops to iterate over dictionaries, keys, values, or, items\n",
    "\n",
    "# Iterating over keys\n",
    "for keys in student.keys() :\n",
    "    print(keys)"
   ]
  },
  {
   "cell_type": "code",
   "execution_count": 20,
   "metadata": {},
   "outputs": [
    {
     "name": "stdout",
     "output_type": "stream",
     "text": [
      "Nonte\n",
      "32\n",
      "India\n"
     ]
    }
   ],
   "source": [
    "# Iterating over values\n",
    "for value in student.values() :\n",
    "    print(value)"
   ]
  },
  {
   "cell_type": "code",
   "execution_count": 21,
   "metadata": {},
   "outputs": [
    {
     "name": "stdout",
     "output_type": "stream",
     "text": [
      "name:Nonte\n",
      "age:32\n",
      "address:India\n"
     ]
    }
   ],
   "source": [
    "#  iterating over key - value pairs\n",
    "for key, value in student.items():\n",
    "    print(f\"{key}:{value}\")"
   ]
  },
  {
   "cell_type": "code",
   "execution_count": 24,
   "metadata": {},
   "outputs": [
    {
     "name": "stdout",
     "output_type": "stream",
     "text": [
      "{'student1': {'name': 'Krish', 'age': 32}, 'student2': {'name': 'Archi', 'age': 20}}\n",
      "Archi\n"
     ]
    }
   ],
   "source": [
    "# Nested Dictionaries\n",
    "students = {\n",
    "    \"student1\":{\"name\":\"Krish\",\"age\":32},\n",
    "    \"student2\":{\"name\":\"Archi\",\"age\":20}\n",
    "}\n",
    "print(students)\n",
    "\n",
    "# Access nested dictionary elements\n",
    "print(students[\"student2\"][\"name\"])"
   ]
  },
  {
   "cell_type": "code",
   "execution_count": 26,
   "metadata": {},
   "outputs": [
    {
     "name": "stdout",
     "output_type": "stream",
     "text": [
      "student1:{'name': 'Krish', 'age': 32}\n",
      "name:Krish\n",
      "age:32\n",
      "student2:{'name': 'Archi', 'age': 20}\n",
      "name:Archi\n",
      "age:20\n"
     ]
    }
   ],
   "source": [
    "# Iterating over Nested Dictionaries\n",
    "for student_id, student_info in students.items():\n",
    "    print(f\"{student_id}:{student_info}\")\n",
    "    for key, value in student_info.items():\n",
    "        print(f\"{key}:{value}\")"
   ]
  },
  {
   "cell_type": "code",
   "execution_count": 25,
   "metadata": {},
   "outputs": [
    {
     "name": "stdout",
     "output_type": "stream",
     "text": [
      "{0: 0, 1: 1, 2: 4, 3: 9, 4: 16}\n"
     ]
    }
   ],
   "source": [
    "#  Dictionary Comprehension\n",
    "squares = {x : x**2 for x in range(5)}\n",
    "print(squares)"
   ]
  },
  {
   "cell_type": "code",
   "execution_count": 27,
   "metadata": {},
   "outputs": [
    {
     "name": "stdout",
     "output_type": "stream",
     "text": [
      "{0: 0, 2: 4, 4: 16, 6: 36, 8: 64}\n"
     ]
    }
   ],
   "source": [
    "# Conditional #  Dictionary Comprehension\n",
    "evens = {x : x**2 for x in range(10) if x%2 == 0}\n",
    "print(evens)"
   ]
  },
  {
   "cell_type": "code",
   "execution_count": 28,
   "metadata": {},
   "outputs": [
    {
     "name": "stdout",
     "output_type": "stream",
     "text": [
      "{'a': 1, 'b': 3, 'c': 4}\n"
     ]
    }
   ],
   "source": [
    "#  Merge 2 Dictionaries into one\n",
    "\n",
    "dict1 = {\"a\":1,\"b\":2}\n",
    "dict2 = {\"b\":3, \"c\":4}\n",
    "merged_dict = {**dict1, **dict2}\n",
    "print(merged_dict)"
   ]
  },
  {
   "cell_type": "code",
   "execution_count": 29,
   "metadata": {},
   "outputs": [
    {
     "name": "stdout",
     "output_type": "stream",
     "text": [
      "{8: 1, 9: 1, 0: 1, 2: 2, 5: 1, 1: 2, 3: 1, 6: 1}\n"
     ]
    }
   ],
   "source": [
    "# Practical examples of dictionaries\n",
    "# Print the frequency of all the elements present in List\n",
    "lst = [8,9,0,2,5,2,1,3,1,6]\n",
    "freq = {}\n",
    "for item in lst : \n",
    "    if item in freq:\n",
    "        freq[item] += 1\n",
    "    else :\n",
    "        freq[item] = 1\n",
    "\n",
    "print(freq)        "
   ]
  }
 ],
 "metadata": {
  "kernelspec": {
   "display_name": "Python 3",
   "language": "python",
   "name": "python3"
  },
  "language_info": {
   "codemirror_mode": {
    "name": "ipython",
    "version": 3
   },
   "file_extension": ".py",
   "mimetype": "text/x-python",
   "name": "python",
   "nbconvert_exporter": "python",
   "pygments_lexer": "ipython3",
   "version": "3.12.0"
  }
 },
 "nbformat": 4,
 "nbformat_minor": 2
}
