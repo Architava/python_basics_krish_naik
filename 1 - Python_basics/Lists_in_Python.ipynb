{
 "cells": [
  {
   "cell_type": "markdown",
   "metadata": {},
   "source": [
    "Lists are ordered, mutable(items that can be updated) collection of items, They can contain item of different data types "
   ]
  },
  {
   "cell_type": "code",
   "execution_count": 16,
   "metadata": {},
   "outputs": [
    {
     "name": "stdout",
     "output_type": "stream",
     "text": [
      "['Java', 'Leetcode']\n",
      "['Java', 'Leetcode', 'Jadavpur', 'Instrumentation']\n",
      "['Archi', 'Java', 'Leetcode']\n",
      "['Leetcode', 'Jadavpur', 'Instrumentation']\n",
      "['Leetcode', 'Jadavpur']\n",
      "['Archi', 'Leetcode', 'Instrumentation']\n"
     ]
    }
   ],
   "source": [
    "lst = [\"Archi\", \"Java\", \"Leetcode\", \"Jadavpur\", \"Instrumentation\"]\n",
    "print(lst[1:3])\n",
    "print(lst[1:])\n",
    "print(lst[:3])\n",
    "print(lst[-3:])\n",
    "print(lst[-3:-1])\n",
    "print(lst[::2]) ## jump 2 steps from 1st index to last\n",
    "print(lst[::-2]) ## jump 2 steps from last index first"
   ]
  },
  {
   "cell_type": "code",
   "execution_count": 20,
   "metadata": {},
   "outputs": [
    {
     "name": "stdout",
     "output_type": "stream",
     "text": [
      "[8, 17, 17, 19, 24, 26, 27, 30, 31, 37]\n"
     ]
    }
   ],
   "source": [
    "# Given list of numbers construct prefix sum list\n",
    "arr = [8,9,0,2,5,2,1,3,1,6]\n",
    "ans = []\n",
    "for num in arr :\n",
    "    temp = num\n",
    "    if not len(ans) == 0:\n",
    "        temp += ans[len(ans)-1]\n",
    "    ans.append(temp)\n",
    "print(ans)    \n",
    "\n",
    "\n"
   ]
  },
  {
   "cell_type": "code",
   "execution_count": 23,
   "metadata": {},
   "outputs": [
    {
     "name": "stdout",
     "output_type": "stream",
     "text": [
      "8 9 0 2 5 2 1 3 1 6 0 8\n",
      "1 9\n",
      "2 0\n",
      "3 2\n",
      "4 5\n",
      "5 2\n",
      "6 1\n",
      "7 3\n",
      "8 1\n",
      "9 6\n"
     ]
    }
   ],
   "source": [
    "# iterating over lists\n",
    "for num in arr :\n",
    "    print(num, end = ' ')\n",
    "\n",
    "## Iterating with index\n",
    "for index,number in enumerate(arr):  # enumerate is a built in function\n",
    "    print(index,number)"
   ]
  },
  {
   "cell_type": "code",
   "execution_count": 25,
   "metadata": {},
   "outputs": [
    {
     "name": "stdout",
     "output_type": "stream",
     "text": [
      "printing square of all numbers from 1 to 10 by iteration method\n",
      "[0, 1, 4, 9, 16, 25, 36, 49, 64, 81]\n",
      "printing square of all numbers from 1 to 10 by list comprehension method\n"
     ]
    },
    {
     "data": {
      "text/plain": [
       "[0, 1, 4, 9, 16, 25, 36, 49, 64, 81]"
      ]
     },
     "execution_count": 25,
     "metadata": {},
     "output_type": "execute_result"
    }
   ],
   "source": [
    "## List Comprehension\n",
    "lst = []\n",
    "print(f\"printing square of all numbers from 1 to 10 by iteration method\")\n",
    "for x in range(10):\n",
    "    lst.append(x**2)\n",
    "\n",
    "print(lst) # this will print [0, 1, 4, 9, 16, 25, 36, 49, 64, 81]\n",
    "\n",
    "print(f\"printing square of all numbers from 1 to 10 by list comprehension method\")\n",
    "[x**2 for x in range(10)]\n",
    "\n",
    "## the template is basically:  [f(x) for x in range/list]"
   ]
  },
  {
   "cell_type": "markdown",
   "metadata": {},
   "source": [
    "##### List Comprehension\n",
    "\n",
    "Basic Syntax [expression for item in iterable]\n",
    "\n",
    "with condition logic [expression for item in iterable if condition]"
   ]
  },
  {
   "cell_type": "code",
   "execution_count": 27,
   "metadata": {},
   "outputs": [
    {
     "name": "stdout",
     "output_type": "stream",
     "text": [
      "all even numbers in the range 1 to 10\n",
      "[0, 4, 16, 36, 64]\n"
     ]
    }
   ],
   "source": [
    "###  Basic List Comprehension \n",
    "print(\"all even numbers in the range 1 to 10\")\n",
    "even_numbers = [num for num in range(10) if num%2 == 0]\n",
    "## the format is : [f(x) for x in range(y) if condition]\n",
    "print(even_numbers)"
   ]
  },
  {
   "cell_type": "code",
   "execution_count": 33,
   "metadata": {},
   "outputs": [
    {
     "name": "stdout",
     "output_type": "stream",
     "text": [
      "printing all pairs possible of elements in two lists\n",
      "[[1, 'a'], [1, 'b'], [1, 'c'], [1, 'd'], [2, 'a'], [2, 'b'], [2, 'c'], [2, 'd'], [3, 'a'], [3, 'b'], [3, 'c'], [3, 'd'], [4, 'a'], [4, 'b'], [4, 'c'], [4, 'd']]\n",
      "printing Concatenation of all pairs possible of elements in two lists\n",
      "['1a', '1b', '1c', '1d', '2a', '2b', '2c', '2d', '3a', '3b', '3c', '3d', '4a', '4b', '4c', '4d']\n"
     ]
    }
   ],
   "source": [
    "lst1 = [1,2,3,4]\n",
    "lst2 = ['a','b','c','d']\n",
    "\n",
    "print(f\"printing all pairs possible of elements in two lists\")\n",
    "pair = [[i,j] for i in lst1 for j in lst2]\n",
    "print(pair)\n",
    "\n",
    "print(f\"printing Concatenation of all pairs possible of elements in two lists\")\n",
    "pair_concat = [str(i) + j for i in lst1 for j in lst2]\n",
    "print(pair_concat)"
   ]
  },
  {
   "cell_type": "code",
   "execution_count": 34,
   "metadata": {},
   "outputs": [
    {
     "name": "stdout",
     "output_type": "stream",
     "text": [
      "length of all the words in the list\n",
      "[5, 4, 6, 8]\n"
     ]
    }
   ],
   "source": [
    "#Another list comprehension example\n",
    "words = [\"Archi\",\"Java\",\"Python\",\"Jadavpur\"]\n",
    "print(f\"length of all the words in the list\")\n",
    "\n",
    "len_words = [len(str) for str in words]\n",
    "print(len_words)"
   ]
  }
 ],
 "metadata": {
  "kernelspec": {
   "display_name": "Python 3",
   "language": "python",
   "name": "python3"
  },
  "language_info": {
   "codemirror_mode": {
    "name": "ipython",
    "version": 3
   },
   "file_extension": ".py",
   "mimetype": "text/x-python",
   "name": "python",
   "nbconvert_exporter": "python",
   "pygments_lexer": "ipython3",
   "version": "3.12.0"
  }
 },
 "nbformat": 4,
 "nbformat_minor": 2
}
