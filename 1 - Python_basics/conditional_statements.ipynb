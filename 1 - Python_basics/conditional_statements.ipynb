{
 "cells": [
  {
   "cell_type": "code",
   "execution_count": 2,
   "metadata": {},
   "outputs": [
    {
     "name": "stdout",
     "output_type": "stream",
     "text": [
      "the answer is : 14\n"
     ]
    }
   ],
   "source": [
    "# sum of digits of a number \n",
    "number = int(input(\"Enter a number\"))\n",
    "ans = 0\n",
    "while number > 0 :\n",
    "    ans += number%10\n",
    "    number = number//10   \n",
    "print(f\"the answer is : {ans}\")    "
   ]
  },
  {
   "cell_type": "code",
   "execution_count": 20,
   "metadata": {},
   "outputs": [
    {
     "name": "stdout",
     "output_type": "stream",
     "text": [
      "0 ,   1 ,   1,  1,  2 "
     ]
    }
   ],
   "source": [
    "# fibbonacci series\n",
    "prev1, prev2 = 0, 1\n",
    "n = int(input(\"Enter a number > 1\"))\n",
    "print(*f\"{prev1}, {prev2}, \", end = ' ')\n",
    "for i in range(2, n) :\n",
    "    temp = prev1 + prev2\n",
    "    if i == n - 1 :\n",
    "        print(f\"{temp}\", end=' ')\n",
    "        break\n",
    "    print(f\"{temp}, \", end=' ')\n",
    "    prev2 = prev1\n",
    "    prev1 = temp"
   ]
  },
  {
   "cell_type": "code",
   "execution_count": 27,
   "metadata": {},
   "outputs": [
    {
     "name": "stdout",
     "output_type": "stream",
     "text": [
      "the answer is : 945\n"
     ]
    }
   ],
   "source": [
    "# sum of cubes of digits of a number\n",
    "num = int(input(\"Enter a number\"))\n",
    "sum = 0\n",
    "while num > 0 :\n",
    "    dig = num % 10\n",
    "    sum += pow(dig, 3)\n",
    "    num //= 10\n",
    "print(f\"the answer is : {sum}\")"
   ]
  },
  {
   "cell_type": "code",
   "execution_count": 3,
   "metadata": {},
   "outputs": [
    {
     "name": "stdout",
     "output_type": "stream",
     "text": [
      "the answer is : 281\n"
     ]
    }
   ],
   "source": [
    "# sum of digits powered with there respective positions\n",
    "s = input(\"enter a number\")\n",
    "length = int(len(s))\n",
    "n = int(s)\n",
    "sum = 0\n",
    "while n > 0 :\n",
    "    dig = n%10\n",
    "    sum += pow(dig, length)\n",
    "    length = length - 1\n",
    "    n //= 10\n",
    "print(f\"the answer is : {sum}\")    "
   ]
  }
 ],
 "metadata": {
  "kernelspec": {
   "display_name": "Python 3",
   "language": "python",
   "name": "python3"
  },
  "language_info": {
   "codemirror_mode": {
    "name": "ipython",
    "version": 3
   },
   "file_extension": ".py",
   "mimetype": "text/x-python",
   "name": "python",
   "nbconvert_exporter": "python",
   "pygments_lexer": "ipython3",
   "version": "3.12.0"
  }
 },
 "nbformat": 4,
 "nbformat_minor": 2
}
